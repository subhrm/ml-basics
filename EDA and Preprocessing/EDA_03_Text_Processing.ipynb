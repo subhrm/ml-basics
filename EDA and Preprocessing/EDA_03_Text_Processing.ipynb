{
 "cells": [
  {
   "cell_type": "code",
   "execution_count": 5,
   "metadata": {},
   "outputs": [
    {
     "name": "stderr",
     "output_type": "stream",
     "text": [
      "UsageError: Line magic function `%matplolib` not found.\n"
     ]
    }
   ],
   "source": [
    "import numpy as np\n",
    "import pandas as pd\n",
    "import nltk\n",
    "\n",
    "import matplotlib.pyplot as plt\n",
    "%matplolib inline"
   ]
  },
  {
   "cell_type": "code",
   "execution_count": 2,
   "metadata": {},
   "outputs": [],
   "source": [
    "df = pd.read_csv(\"./data/reuters-training.csv\")"
   ]
  },
  {
   "cell_type": "code",
   "execution_count": 3,
   "metadata": {},
   "outputs": [
    {
     "data": {
      "text/html": [
       "<div>\n",
       "<style scoped>\n",
       "    .dataframe tbody tr th:only-of-type {\n",
       "        vertical-align: middle;\n",
       "    }\n",
       "\n",
       "    .dataframe tbody tr th {\n",
       "        vertical-align: top;\n",
       "    }\n",
       "\n",
       "    .dataframe thead th {\n",
       "        text-align: right;\n",
       "    }\n",
       "</style>\n",
       "<table border=\"1\" class=\"dataframe\">\n",
       "  <thead>\n",
       "    <tr style=\"text-align: right;\">\n",
       "      <th></th>\n",
       "      <th>category</th>\n",
       "      <th>wire</th>\n",
       "    </tr>\n",
       "  </thead>\n",
       "  <tbody>\n",
       "    <tr>\n",
       "      <th>0</th>\n",
       "      <td>3</td>\n",
       "      <td>the wattie nondiscriminatory mln loss for plc ...</td>\n",
       "    </tr>\n",
       "    <tr>\n",
       "      <th>1</th>\n",
       "      <td>4</td>\n",
       "      <td>the termination payment airport takes 6 visibi...</td>\n",
       "    </tr>\n",
       "    <tr>\n",
       "      <th>2</th>\n",
       "      <td>3</td>\n",
       "      <td>the lt dlrs demand 000 reuter dividend year lt...</td>\n",
       "    </tr>\n",
       "    <tr>\n",
       "      <th>3</th>\n",
       "      <td>4</td>\n",
       "      <td>the in currencies hit firms in has would seven...</td>\n",
       "    </tr>\n",
       "    <tr>\n",
       "      <th>4</th>\n",
       "      <td>4</td>\n",
       "      <td>the bleached could mln at world as holding for...</td>\n",
       "    </tr>\n",
       "  </tbody>\n",
       "</table>\n",
       "</div>"
      ],
      "text/plain": [
       "   category                                               wire\n",
       "0         3  the wattie nondiscriminatory mln loss for plc ...\n",
       "1         4  the termination payment airport takes 6 visibi...\n",
       "2         3  the lt dlrs demand 000 reuter dividend year lt...\n",
       "3         4  the in currencies hit firms in has would seven...\n",
       "4         4  the bleached could mln at world as holding for..."
      ]
     },
     "execution_count": 3,
     "metadata": {},
     "output_type": "execute_result"
    }
   ],
   "source": [
    "df.head(5)"
   ]
  },
  {
   "cell_type": "code",
   "execution_count": 6,
   "metadata": {},
   "outputs": [],
   "source": [
    "df[\"len\"] = df[\"wire\"].apply(lambda x: len(list(x.split())))"
   ]
  },
  {
   "cell_type": "code",
   "execution_count": 7,
   "metadata": {},
   "outputs": [
    {
     "data": {
      "text/html": [
       "<div>\n",
       "<style scoped>\n",
       "    .dataframe tbody tr th:only-of-type {\n",
       "        vertical-align: middle;\n",
       "    }\n",
       "\n",
       "    .dataframe tbody tr th {\n",
       "        vertical-align: top;\n",
       "    }\n",
       "\n",
       "    .dataframe thead th {\n",
       "        text-align: right;\n",
       "    }\n",
       "</style>\n",
       "<table border=\"1\" class=\"dataframe\">\n",
       "  <thead>\n",
       "    <tr style=\"text-align: right;\">\n",
       "      <th></th>\n",
       "      <th>category</th>\n",
       "      <th>wire</th>\n",
       "      <th>len</th>\n",
       "    </tr>\n",
       "  </thead>\n",
       "  <tbody>\n",
       "    <tr>\n",
       "      <th>0</th>\n",
       "      <td>3</td>\n",
       "      <td>the wattie nondiscriminatory mln loss for plc ...</td>\n",
       "      <td>87</td>\n",
       "    </tr>\n",
       "    <tr>\n",
       "      <th>1</th>\n",
       "      <td>4</td>\n",
       "      <td>the termination payment airport takes 6 visibi...</td>\n",
       "      <td>56</td>\n",
       "    </tr>\n",
       "    <tr>\n",
       "      <th>2</th>\n",
       "      <td>3</td>\n",
       "      <td>the lt dlrs demand 000 reuter dividend year lt...</td>\n",
       "      <td>139</td>\n",
       "    </tr>\n",
       "    <tr>\n",
       "      <th>3</th>\n",
       "      <td>4</td>\n",
       "      <td>the in currencies hit firms in has would seven...</td>\n",
       "      <td>224</td>\n",
       "    </tr>\n",
       "    <tr>\n",
       "      <th>4</th>\n",
       "      <td>4</td>\n",
       "      <td>the bleached could mln at world as holding for...</td>\n",
       "      <td>101</td>\n",
       "    </tr>\n",
       "  </tbody>\n",
       "</table>\n",
       "</div>"
      ],
      "text/plain": [
       "   category                                               wire  len\n",
       "0         3  the wattie nondiscriminatory mln loss for plc ...   87\n",
       "1         4  the termination payment airport takes 6 visibi...   56\n",
       "2         3  the lt dlrs demand 000 reuter dividend year lt...  139\n",
       "3         4  the in currencies hit firms in has would seven...  224\n",
       "4         4  the bleached could mln at world as holding for...  101"
      ]
     },
     "execution_count": 7,
     "metadata": {},
     "output_type": "execute_result"
    }
   ],
   "source": [
    "df.head(5)"
   ]
  },
  {
   "cell_type": "code",
   "execution_count": 8,
   "metadata": {},
   "outputs": [
    {
     "data": {
      "text/plain": [
       "(array([7.619e+03, 9.870e+02, 2.890e+02, 7.900e+01, 5.000e+00, 1.000e+00,\n",
       "        0.000e+00, 0.000e+00, 0.000e+00, 2.000e+00]),\n",
       " array([  13. ,  249.3,  485.6,  721.9,  958.2, 1194.5, 1430.8, 1667.1,\n",
       "        1903.4, 2139.7, 2376. ]),\n",
       " <a list of 10 Patch objects>)"
      ]
     },
     "execution_count": 8,
     "metadata": {},
     "output_type": "execute_result"
    },
    {
     "data": {
      "image/png": "[encoded data removed]",
      "text/plain": [
       "<Figure size 432x288 with 1 Axes>"
      ]
     },
     "metadata": {
      "needs_background": "light"
     },
     "output_type": "display_data"
    }
   ],
   "source": [
    "plt.hist(df[\"len\"])"
   ]
  },
  {
   "cell_type": "markdown",
   "metadata": {},
   "source": [
    "### Stopword removal\n",
    "### Stemming and Lematization"
   ]
  },
  {
   "cell_type": "code",
   "execution_count": 10,
   "metadata": {},
   "outputs": [],
   "source": [
    "from nltk.stem import WordNetLemmatizer, PorterStemmer"
   ]
  },
  {
   "cell_type": "code",
   "execution_count": 12,
   "metadata": {},
   "outputs": [],
   "source": [
    "wn = WordNetLemmatizer()\n",
    "ps = PorterStemmer()"
   ]
  },
  {
   "cell_type": "code",
   "execution_count": 16,
   "metadata": {},
   "outputs": [
    {
     "name": "stdout",
     "output_type": "stream",
     "text": [
      "ox\n"
     ]
    }
   ],
   "source": [
    "print(wn.lemmatize(\"oxen\"))"
   ]
  },
  {
   "cell_type": "code",
   "execution_count": 15,
   "metadata": {},
   "outputs": [
    {
     "name": "stdout",
     "output_type": "stream",
     "text": [
      "goe\n"
     ]
    }
   ],
   "source": [
    "print(ps.stem(\"goes\"))"
   ]
  },
  {
   "cell_type": "code",
   "execution_count": 22,
   "metadata": {},
   "outputs": [],
   "source": [
    "from nltk.corpus import stopwords"
   ]
  },
  {
   "cell_type": "code",
   "execution_count": 25,
   "metadata": {},
   "outputs": [
    {
     "name": "stdout",
     "output_type": "stream",
     "text": [
      "{'below', 'we', 'up', 'any', 'whom', 'their', 'needn', 'yours', 'other', 'because', 'an', 'can', 'mustn', 'down', 'after', 'just', 'it', 'than', 'ourselves', 'how', \"you've\", \"isn't\", 'they', 'until', 'between', 'and', 'did', 'her', 'myself', 'those', 'isn', 'through', 'further', 'such', 'own', 'haven', \"wasn't\", 'its', 'where', 'for', 'didn', \"hadn't\", 'there', 'hers', 'theirs', 'why', 'before', 'doesn', 'wouldn', 'had', 'off', 'once', 's', 'in', 'he', 'under', \"she's\", 'here', \"you'll\", 'on', 'out', 'what', 'shan', 'then', 'i', 'who', 'only', \"should've\", 'herself', 'himself', 'your', 'that', 'do', 'y', 'be', 'each', \"that'll\", 'this', 'or', 'll', 'wasn', 'about', 'but', 'themselves', \"hasn't\", \"mustn't\", \"shouldn't\", 'with', 'so', 've', 'been', 'same', 'does', 'from', 'our', 'nor', \"couldn't\", 'couldn', 'my', \"it's\", 'these', 'she', 'won', 'not', \"aren't\", 'was', \"you'd\", 'by', 'him', \"mightn't\", 'yourself', 'am', 'too', 'don', \"won't\", 'being', 'against', 'while', 'the', \"didn't\", \"shan't\", 'to', 'which', 'weren', 'shouldn', 'over', 'hadn', 'of', 'ma', 'if', 'all', 'you', 'hasn', \"needn't\", 'some', \"wouldn't\", 'now', 'is', 'mightn', 'into', 'yourselves', \"don't\", 'very', \"you're\", 'are', 'at', 'few', 'them', 't', 're', 'again', 'a', 'no', 'his', 'ours', 'me', 'itself', 'ain', 'aren', 'during', 'have', 'when', 'most', 'both', 'has', 'will', \"doesn't\", 'were', 'having', 'o', 'should', 'above', 'm', 'more', 'doing', 'd', \"haven't\", \"weren't\", 'as'}\n"
     ]
    }
   ],
   "source": [
    "sw = set(stopwords.words('english'))\n",
    "print(sw)"
   ]
  },
  {
   "cell_type": "code",
   "execution_count": 26,
   "metadata": {},
   "outputs": [
    {
     "data": {
      "text/html": [
       "<div>\n",
       "<style scoped>\n",
       "    .dataframe tbody tr th:only-of-type {\n",
       "        vertical-align: middle;\n",
       "    }\n",
       "\n",
       "    .dataframe tbody tr th {\n",
       "        vertical-align: top;\n",
       "    }\n",
       "\n",
       "    .dataframe thead th {\n",
       "        text-align: right;\n",
       "    }\n",
       "</style>\n",
       "<table border=\"1\" class=\"dataframe\">\n",
       "  <thead>\n",
       "    <tr style=\"text-align: right;\">\n",
       "      <th></th>\n",
       "      <th>category</th>\n",
       "      <th>wire</th>\n",
       "      <th>len</th>\n",
       "      <th>clean_text</th>\n",
       "    </tr>\n",
       "  </thead>\n",
       "  <tbody>\n",
       "    <tr>\n",
       "      <th>0</th>\n",
       "      <td>3</td>\n",
       "      <td>the wattie nondiscriminatory mln loss for plc ...</td>\n",
       "      <td>87</td>\n",
       "      <td>wattie nondiscriminatory mln loss plc said end...</td>\n",
       "    </tr>\n",
       "    <tr>\n",
       "      <th>1</th>\n",
       "      <td>4</td>\n",
       "      <td>the termination payment airport takes 6 visibi...</td>\n",
       "      <td>56</td>\n",
       "      <td>termination payment airport take 6 visibility ...</td>\n",
       "    </tr>\n",
       "    <tr>\n",
       "      <th>2</th>\n",
       "      <td>3</td>\n",
       "      <td>the lt dlrs demand 000 reuter dividend year lt...</td>\n",
       "      <td>139</td>\n",
       "      <td>lt dlrs demand 000 reuter dividend year lt plu...</td>\n",
       "    </tr>\n",
       "    <tr>\n",
       "      <th>3</th>\n",
       "      <td>4</td>\n",
       "      <td>the in currencies hit firms in has would seven...</td>\n",
       "      <td>224</td>\n",
       "      <td>currency hit firm would seven jointly taiwan 2...</td>\n",
       "    </tr>\n",
       "    <tr>\n",
       "      <th>4</th>\n",
       "      <td>4</td>\n",
       "      <td>the bleached could mln at world as holding for...</td>\n",
       "      <td>101</td>\n",
       "      <td>bleached could mln world holding include 3 sta...</td>\n",
       "    </tr>\n",
       "  </tbody>\n",
       "</table>\n",
       "</div>"
      ],
      "text/plain": [
       "   category                                               wire  len  \\\n",
       "0         3  the wattie nondiscriminatory mln loss for plc ...   87   \n",
       "1         4  the termination payment airport takes 6 visibi...   56   \n",
       "2         3  the lt dlrs demand 000 reuter dividend year lt...  139   \n",
       "3         4  the in currencies hit firms in has would seven...  224   \n",
       "4         4  the bleached could mln at world as holding for...  101   \n",
       "\n",
       "                                          clean_text  \n",
       "0  wattie nondiscriminatory mln loss plc said end...  \n",
       "1  termination payment airport take 6 visibility ...  \n",
       "2  lt dlrs demand 000 reuter dividend year lt plu...  \n",
       "3  currency hit firm would seven jointly taiwan 2...  \n",
       "4  bleached could mln world holding include 3 sta...  "
      ]
     },
     "execution_count": 26,
     "metadata": {},
     "output_type": "execute_result"
    }
   ],
   "source": [
    "def clean_text(text):\n",
    "    text = text.lower()\n",
    "    words = list(text.split(\" \"))\n",
    "    words = [wn.lemmatize(word) for word in words if word not in sw]\n",
    "    return \" \".join(words)\n",
    "\n",
    "df[\"clean_text\"] = df[\"wire\"].apply(clean_text)\n",
    "\n",
    "df.head(5)"
   ]
  },
  {
   "cell_type": "code",
   "execution_count": 28,
   "metadata": {},
   "outputs": [],
   "source": [
    "from sklearn.feature_extraction.text import CountVectorizer, TfidfVectorizer"
   ]
  },
  {
   "cell_type": "code",
   "execution_count": 37,
   "metadata": {},
   "outputs": [],
   "source": [
    "count_vectorizer = CountVectorizer(max_df=0.75,\n",
    "                                 min_df=5,\n",
    "                                 ngram_range=(1,2),\n",
    "                                  max_features=len(df))\n"
   ]
  },
  {
   "cell_type": "code",
   "execution_count": 38,
   "metadata": {},
   "outputs": [],
   "source": [
    "c_vectors = count_vectorizer.fit_transform(df[\"clean_text\"])"
   ]
  },
  {
   "cell_type": "code",
   "execution_count": 39,
   "metadata": {},
   "outputs": [
    {
     "data": {
      "text/plain": [
       "((8982, 8982), 8982)"
      ]
     },
     "execution_count": 39,
     "metadata": {},
     "output_type": "execute_result"
    }
   ],
   "source": [
    "c_vectors.shape , len(df)"
   ]
  },
  {
   "cell_type": "code",
   "execution_count": 40,
   "metadata": {},
   "outputs": [],
   "source": [
    "c_vectors = c_vectors.todense()"
   ]
  },
  {
   "cell_type": "code",
   "execution_count": 41,
   "metadata": {},
   "outputs": [
    {
     "data": {
      "text/plain": [
       "matrix([[0, 0, 0, ..., 0, 0, 0]], dtype=int64)"
      ]
     },
     "execution_count": 41,
     "metadata": {},
     "output_type": "execute_result"
    }
   ],
   "source": [
    "c_vectors[0]"
   ]
  },
  {
   "cell_type": "code",
   "execution_count": 49,
   "metadata": {},
   "outputs": [],
   "source": [
    "text = [\n",
    "    \"i am going to school\",\n",
    "    \"you are going to market\",\n",
    "    \"kids are going to school to school\",\n",
    "]"
   ]
  },
  {
   "cell_type": "code",
   "execution_count": 50,
   "metadata": {},
   "outputs": [],
   "source": [
    "count_vectorizer = CountVectorizer(ngram_range=(1,2))\n",
    "c_vectors = count_vectorizer.fit_transform(text)\n"
   ]
  },
  {
   "cell_type": "code",
   "execution_count": 51,
   "metadata": {},
   "outputs": [
    {
     "data": {
      "text/plain": [
       "(3, 16)"
      ]
     },
     "execution_count": 51,
     "metadata": {},
     "output_type": "execute_result"
    }
   ],
   "source": [
    "c_vectors.shape"
   ]
  },
  {
   "cell_type": "code",
   "execution_count": 52,
   "metadata": {},
   "outputs": [
    {
     "name": "stdout",
     "output_type": "stream",
     "text": [
      "[[1 1 0 0 1 1 0 0 0 1 0 1 0 1 0 0]\n",
      " [0 0 1 1 1 1 0 0 1 0 0 1 1 0 1 1]\n",
      " [0 0 1 1 1 1 1 1 0 2 1 2 0 2 0 0]]\n"
     ]
    }
   ],
   "source": [
    "c_vectors= c_vectors.todense()\n",
    "print(c_vectors)"
   ]
  },
  {
   "cell_type": "code",
   "execution_count": 53,
   "metadata": {},
   "outputs": [
    {
     "data": {
      "text/plain": [
       "{'am': 0,\n",
       " 'going': 4,\n",
       " 'to': 11,\n",
       " 'school': 9,\n",
       " 'am going': 1,\n",
       " 'going to': 5,\n",
       " 'to school': 13,\n",
       " 'you': 14,\n",
       " 'are': 2,\n",
       " 'market': 8,\n",
       " 'you are': 15,\n",
       " 'are going': 3,\n",
       " 'to market': 12,\n",
       " 'kids': 6,\n",
       " 'kids are': 7,\n",
       " 'school to': 10}"
      ]
     },
     "execution_count": 53,
     "metadata": {},
     "output_type": "execute_result"
    }
   ],
   "source": [
    "count_vectorizer.vocabulary_"
   ]
  },
  {
   "cell_type": "code",
   "execution_count": null,
   "metadata": {},
   "outputs": [],
   "source": []
  }
 ],
 "metadata": {
  "kernelspec": {
   "display_name": "Python 3",
   "language": "python",
   "name": "python3"
  },
  "language_info": {
   "codemirror_mode": {
    "name": "ipython",
    "version": 3
   },
   "file_extension": ".py",
   "mimetype": "text/x-python",
   "name": "python",
   "nbconvert_exporter": "python",
   "pygments_lexer": "ipython3",
   "version": "3.7.3"
  }
 },
 "nbformat": 4,
 "nbformat_minor": 2
}
