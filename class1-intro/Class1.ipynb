{
 "cells": [
  {
   "cell_type": "code",
   "execution_count": 1,
   "metadata": {},
   "outputs": [
    {
     "name": "stderr",
     "output_type": "stream",
     "text": [
      "C:\\Users\\subhendu_mishra\\AppData\\Local\\Continuum\\anaconda3\\lib\\importlib\\_bootstrap.py:219: RuntimeWarning: numpy.ufunc size changed, may indicate binary incompatibility. Expected 192 from C header, got 216 from PyObject\n",
      "  return f(*args, **kwds)\n",
      "C:\\Users\\subhendu_mishra\\AppData\\Local\\Continuum\\anaconda3\\lib\\importlib\\_bootstrap.py:219: RuntimeWarning: numpy.ufunc size changed, may indicate binary incompatibility. Expected 192 from C header, got 216 from PyObject\n",
      "  return f(*args, **kwds)\n"
     ]
    }
   ],
   "source": [
    "import numpy as np\n",
    "\n",
    "from sklearn.feature_extraction.text import TfidfVectorizer\n",
    "from sklearn.decomposition import PCA\n",
    "\n",
    "import matplotlib.pyplot as plt\n",
    "%matplotlib inline "
   ]
  },
  {
   "cell_type": "code",
   "execution_count": 13,
   "metadata": {},
   "outputs": [],
   "source": [
    "text  = [\n",
    "    \"I am going to school\",\n",
    "    \"I am going to market\",\n",
    "    \"I am working in Infosys\",\n",
    "    \"Working in Infosys is not good\",\n",
    "    \"school is good\",\n",
    "    \"market is also good\"\n",
    "]\n",
    "text = [ sent.lower() for sent in text]"
   ]
  },
  {
   "cell_type": "code",
   "execution_count": 14,
   "metadata": {},
   "outputs": [],
   "source": [
    "model = TfidfVectorizer(min_df=2)\n",
    "vectors = model.fit_transform(text)"
   ]
  },
  {
   "cell_type": "code",
   "execution_count": 15,
   "metadata": {},
   "outputs": [
    {
     "data": {
      "text/plain": [
       "{'am': 0,\n",
       " 'going': 1,\n",
       " 'to': 8,\n",
       " 'school': 7,\n",
       " 'market': 6,\n",
       " 'working': 9,\n",
       " 'in': 3,\n",
       " 'infosys': 4,\n",
       " 'is': 5,\n",
       " 'good': 2}"
      ]
     },
     "execution_count": 15,
     "metadata": {},
     "output_type": "execute_result"
    }
   ],
   "source": [
    "model.vocabulary_"
   ]
  },
  {
   "cell_type": "code",
   "execution_count": 16,
   "metadata": {},
   "outputs": [
    {
     "data": {
      "text/plain": [
       "[(0, 'am'),\n",
       " (1, 'going'),\n",
       " (2, 'good'),\n",
       " (3, 'in'),\n",
       " (4, 'infosys'),\n",
       " (5, 'is'),\n",
       " (6, 'market'),\n",
       " (7, 'school'),\n",
       " (8, 'to'),\n",
       " (9, 'working')]"
      ]
     },
     "execution_count": 16,
     "metadata": {},
     "output_type": "execute_result"
    }
   ],
   "source": [
    "sorted( [(key, val) for val,key in model.vocabulary_.items()], key=lambda x:x[0] )"
   ]
  },
  {
   "cell_type": "code",
   "execution_count": 22,
   "metadata": {},
   "outputs": [
    {
     "data": {
      "text/plain": [
       "(6, 10)"
      ]
     },
     "execution_count": 22,
     "metadata": {},
     "output_type": "execute_result"
    }
   ],
   "source": [
    "v = vectors.toarray()\n",
    "v.shape"
   ]
  },
  {
   "cell_type": "code",
   "execution_count": 18,
   "metadata": {},
   "outputs": [
    {
     "name": "stdout",
     "output_type": "stream",
     "text": [
      "[[0.43815778 0.51897905 0.         0.         0.         0.\n",
      "  0.         0.51897905 0.51897905 0.        ]\n",
      " [0.43815778 0.51897905 0.         0.         0.         0.\n",
      "  0.51897905 0.         0.51897905 0.        ]\n",
      " [0.43815778 0.         0.         0.51897905 0.51897905 0.\n",
      "  0.         0.         0.         0.51897905]\n",
      " [0.         0.         0.40132446 0.47535157 0.47535157 0.40132446\n",
      "  0.         0.         0.         0.47535157]\n",
      " [0.         0.         0.54209195 0.         0.         0.54209195\n",
      "  0.         0.64208461 0.         0.        ]\n",
      " [0.         0.         0.54209195 0.         0.         0.54209195\n",
      "  0.64208461 0.         0.         0.        ]]\n"
     ]
    }
   ],
   "source": [
    "print(v)"
   ]
  },
  {
   "cell_type": "code",
   "execution_count": 30,
   "metadata": {},
   "outputs": [],
   "source": [
    "pca_model = PCA(n_components=2)\n",
    "pca_vector = pca_model.fit_transform(v)"
   ]
  },
  {
   "cell_type": "code",
   "execution_count": 31,
   "metadata": {},
   "outputs": [
    {
     "data": {
      "text/plain": [
       "(6, 2)"
      ]
     },
     "execution_count": 31,
     "metadata": {},
     "output_type": "execute_result"
    }
   ],
   "source": [
    "pca_vector.shape"
   ]
  },
  {
   "cell_type": "code",
   "execution_count": 32,
   "metadata": {},
   "outputs": [
    {
     "name": "stdout",
     "output_type": "stream",
     "text": [
      "[[ 0.70419423  0.06011073]\n",
      " [ 0.70419423  0.06011073]\n",
      " [-0.26881952  0.76104423]\n",
      " [-0.63558687  0.26628748]\n",
      " [-0.25199104 -0.57377658]\n",
      " [-0.25199104 -0.57377658]]\n"
     ]
    }
   ],
   "source": [
    "print(pca_vector)"
   ]
  },
  {
   "cell_type": "code",
   "execution_count": 36,
   "metadata": {},
   "outputs": [
    {
     "data": {
      "text/plain": [
       "<matplotlib.collections.PathCollection at 0x1c2f1cd17f0>"
      ]
     },
     "execution_count": 36,
     "metadata": {},
     "output_type": "execute_result"
    },
    {
     "data": {
      "image/png": "[encoded data removed]",
      "text/plain": [
       "<Figure size 432x288 with 1 Axes>"
      ]
     },
     "metadata": {
      "needs_background": "light"
     },
     "output_type": "display_data"
    }
   ],
   "source": [
    "plt.scatter(pca_vector[:,0], pca_vector[:,1])"
   ]
  },
  {
   "cell_type": "code",
   "execution_count": null,
   "metadata": {},
   "outputs": [],
   "source": []
  }
 ],
 "metadata": {
  "kernelspec": {
   "display_name": "Python 3",
   "language": "python",
   "name": "python3"
  },
  "language_info": {
   "codemirror_mode": {
    "name": "ipython",
    "version": 3
   },
   "file_extension": ".py",
   "mimetype": "text/x-python",
   "name": "python",
   "nbconvert_exporter": "python",
   "pygments_lexer": "ipython3",
   "version": "3.7.3"
  }
 },
 "nbformat": 4,
 "nbformat_minor": 2
}
