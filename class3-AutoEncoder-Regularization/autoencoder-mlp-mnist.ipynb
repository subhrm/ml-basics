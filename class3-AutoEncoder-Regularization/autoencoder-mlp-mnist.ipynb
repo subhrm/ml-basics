{
 "cells": [
  {
   "cell_type": "code",
   "execution_count": 1,
   "metadata": {},
   "outputs": [],
   "source": [
    "import numpy as np\n",
    "\n",
    "import tensorflow as tf\n",
    "from tensorflow.keras.datasets import mnist\n",
    "from tensorflow.keras.models import Sequential, Model\n",
    "from tensorflow.keras.layers import Activation, Dense,Input, Reshape\n",
    "\n",
    "import matplotlib.pyplot as plt\n",
    "%matplotlib inline"
   ]
  },
  {
   "cell_type": "code",
   "execution_count": 2,
   "metadata": {},
   "outputs": [
    {
     "name": "stdout",
     "output_type": "stream",
     "text": [
      "(60000, 784) (10000, 784)\n"
     ]
    }
   ],
   "source": [
    "(x_train, y_train), (x_test, y_test) = mnist.load_data()\n",
    "x_train = x_train.reshape((60000, 28*28)) / 256\n",
    "x_test = x_test.reshape((10000, 28*28)) / 256\n",
    "print(x_train.shape, x_test.shape)"
   ]
  },
  {
   "cell_type": "code",
   "execution_count": 3,
   "metadata": {},
   "outputs": [
    {
     "name": "stdout",
     "output_type": "stream",
     "text": [
      "Actual Lable : 9\n"
     ]
    },
    {
     "data": {
      "text/plain": [
       "<matplotlib.image.AxesImage at 0x22942d8b908>"
      ]
     },
     "execution_count": 3,
     "metadata": {},
     "output_type": "execute_result"
    },
    {
     "data": {
      "image/png": "[encoded data removed]",
      "text/plain": [
       "<Figure size 432x288 with 1 Axes>"
      ]
     },
     "metadata": {
      "needs_background": "light"
     },
     "output_type": "display_data"
    }
   ],
   "source": [
    "print(\"Actual Lable :\", y_train[80])\n",
    "plt.imshow(x_train[80].reshape((28,28)), cmap=\"gray\")"
   ]
  },
  {
   "cell_type": "markdown",
   "metadata": {},
   "source": [
    "### Create Autoencoder Model"
   ]
  },
  {
   "cell_type": "code",
   "execution_count": 4,
   "metadata": {},
   "outputs": [
    {
     "name": "stdout",
     "output_type": "stream",
     "text": [
      "WARNING:tensorflow:From C:\\Users\\subhendu_mishra\\AppData\\Local\\Continuum\\anaconda3\\lib\\site-packages\\tensorflow\\python\\ops\\resource_variable_ops.py:435: colocate_with (from tensorflow.python.framework.ops) is deprecated and will be removed in a future version.\n",
      "Instructions for updating:\n",
      "Colocations handled automatically by placer.\n",
      "Encoder Model\n",
      "_________________________________________________________________\n",
      "Layer (type)                 Output Shape              Param #   \n",
      "=================================================================\n",
      "input_1 (InputLayer)         (None, 784)               0         \n",
      "_________________________________________________________________\n",
      "dense (Dense)                (None, 128)               100480    \n",
      "_________________________________________________________________\n",
      "dense_1 (Dense)              (None, 64)                8256      \n",
      "_________________________________________________________________\n",
      "dense_2 (Dense)              (None, 36)                2340      \n",
      "=================================================================\n",
      "Total params: 111,076\n",
      "Trainable params: 111,076\n",
      "Non-trainable params: 0\n",
      "_________________________________________________________________\n",
      "Decoder Model\n",
      "_________________________________________________________________\n",
      "Layer (type)                 Output Shape              Param #   \n",
      "=================================================================\n",
      "input_2 (InputLayer)         (None, 36)                0         \n",
      "_________________________________________________________________\n",
      "dense_3 (Dense)              (None, 64)                2368      \n",
      "_________________________________________________________________\n",
      "dense_4 (Dense)              (None, 128)               8320      \n",
      "_________________________________________________________________\n",
      "dense_5 (Dense)              (None, 784)               101136    \n",
      "=================================================================\n",
      "Total params: 111,824\n",
      "Trainable params: 111,824\n",
      "Non-trainable params: 0\n",
      "_________________________________________________________________\n",
      "Complete Model\n",
      "_________________________________________________________________\n",
      "Layer (type)                 Output Shape              Param #   \n",
      "=================================================================\n",
      "input_1 (InputLayer)         (None, 784)               0         \n",
      "_________________________________________________________________\n",
      "model (Model)                (None, 36)                111076    \n",
      "_________________________________________________________________\n",
      "model_1 (Model)              (None, 784)               111824    \n",
      "=================================================================\n",
      "Total params: 222,900\n",
      "Trainable params: 222,900\n",
      "Non-trainable params: 0\n",
      "_________________________________________________________________\n"
     ]
    }
   ],
   "source": [
    "def create_autoencoder_model():\n",
    "    \n",
    "    tf.keras.backend.clear_session()\n",
    "    \n",
    "    # Define encoder\n",
    "    input_img = Input(shape=(28*28,))\n",
    "    encoder = Dense(128, activation=\"relu\")(input_img)\n",
    "    encoder = Dense(64, activation=\"relu\")(encoder)\n",
    "    encoder = Dense(36, activation=\"sigmoid\")(encoder)\n",
    " \n",
    "    # Define decoder\n",
    "    encoded_img = Input(shape=(36,))\n",
    "    decoder = Dense(64, activation=\"relu\")(encoded_img)\n",
    "    decoder = Dense(128, activation=\"relu\")(decoder)\n",
    "    decoder = Dense(28*28, activation=\"sigmoid\")(decoder)\n",
    "    \n",
    "    print(\"Encoder Model\")   \n",
    "    encoder_model = Model(input_img,encoder)\n",
    "    encoder_model.summary()\n",
    "    \n",
    "    print(\"Decoder Model\")   \n",
    "    decoder_model = Model(encoded_img, decoder)\n",
    "    decoder_model.summary()\n",
    "    \n",
    "    print(\"Complete Model\")   \n",
    "    auto_encoder_model = Model(input_img, decoder_model(encoder_model(input_img)))\n",
    "    #auto_encoder_model = Model(decoder, encoder)\n",
    "    \n",
    "    #auto_encoder_model.compile(optimizer='adam', loss=\"mse\", metrics=[\"accuracy\"])\n",
    "    # auto_encoder_model.compile(optimizer='adam', loss=\"mse\")\n",
    "    auto_encoder_model.compile(optimizer='adam', loss='binary_crossentropy', metrics=[\"accuracy\"])\n",
    "    \n",
    "    auto_encoder_model.summary()\n",
    "    \n",
    "    return auto_encoder_model, encoder_model, decoder_model\n",
    "\n",
    "model, encoder_model, decoder_model = create_autoencoder_model()"
   ]
  },
  {
   "cell_type": "markdown",
   "metadata": {},
   "source": [
    "### Let's train the model"
   ]
  },
  {
   "cell_type": "code",
   "execution_count": 5,
   "metadata": {},
   "outputs": [
    {
     "name": "stdout",
     "output_type": "stream",
     "text": [
      "Train on 60000 samples, validate on 10000 samples\n",
      "WARNING:tensorflow:From C:\\Users\\subhendu_mishra\\AppData\\Local\\Continuum\\anaconda3\\lib\\site-packages\\tensorflow\\python\\ops\\math_ops.py:3066: to_int32 (from tensorflow.python.ops.math_ops) is deprecated and will be removed in a future version.\n",
      "Instructions for updating:\n",
      "Use tf.cast instead.\n",
      "Epoch 1/40\n",
      "60000/60000 [==============================] - 11s 178us/sample - loss: 0.2647 - acc: 0.7924 - val_loss: 0.2252 - val_acc: 0.7910\n",
      "Epoch 2/40\n",
      "60000/60000 [==============================] - 9s 148us/sample - loss: 0.1987 - acc: 0.7934 - val_loss: 0.1736 - val_acc: 0.7941\n",
      "Epoch 3/40\n",
      "60000/60000 [==============================] - 10s 166us/sample - loss: 0.1609 - acc: 0.7984 - val_loss: 0.1497 - val_acc: 0.7997\n",
      "Epoch 4/40\n",
      "60000/60000 [==============================] - 10s 162us/sample - loss: 0.1456 - acc: 0.8008 - val_loss: 0.1398 - val_acc: 0.8003\n",
      "Epoch 5/40\n",
      "60000/60000 [==============================] - 11s 175us/sample - loss: 0.1372 - acc: 0.8020 - val_loss: 0.1321 - val_acc: 0.8015\n",
      "Epoch 6/40\n",
      "60000/60000 [==============================] - 10s 170us/sample - loss: 0.1307 - acc: 0.8030 - val_loss: 0.1271 - val_acc: 0.8021\n",
      "Epoch 7/40\n",
      "60000/60000 [==============================] - 10s 174us/sample - loss: 0.1257 - acc: 0.8038 - val_loss: 0.1220 - val_acc: 0.8029\n",
      "Epoch 8/40\n",
      "60000/60000 [==============================] - 10s 174us/sample - loss: 0.1215 - acc: 0.8044 - val_loss: 0.1185 - val_acc: 0.8032\n",
      "Epoch 9/40\n",
      "60000/60000 [==============================] - 11s 191us/sample - loss: 0.1177 - acc: 0.8049 - val_loss: 0.1147 - val_acc: 0.8035\n",
      "Epoch 10/40\n",
      "60000/60000 [==============================] - 12s 207us/sample - loss: 0.1145 - acc: 0.8053 - val_loss: 0.1122 - val_acc: 0.8038\n",
      "Epoch 11/40\n",
      "60000/60000 [==============================] - 12s 206us/sample - loss: 0.1120 - acc: 0.8056 - val_loss: 0.1099 - val_acc: 0.8042\n",
      "Epoch 12/40\n",
      "60000/60000 [==============================] - 12s 192us/sample - loss: 0.1102 - acc: 0.8058 - val_loss: 0.1086 - val_acc: 0.8043\n",
      "Epoch 13/40\n",
      "60000/60000 [==============================] - 12s 195us/sample - loss: 0.1084 - acc: 0.8061 - val_loss: 0.1064 - val_acc: 0.8046\n",
      "Epoch 14/40\n",
      "60000/60000 [==============================] - 11s 191us/sample - loss: 0.1068 - acc: 0.8062 - val_loss: 0.1050 - val_acc: 0.8046\n",
      "Epoch 15/40\n",
      "60000/60000 [==============================] - 13s 214us/sample - loss: 0.1052 - acc: 0.8064 - val_loss: 0.1038 - val_acc: 0.8052\n",
      "Epoch 16/40\n",
      "60000/60000 [==============================] - 13s 211us/sample - loss: 0.1040 - acc: 0.8066 - val_loss: 0.1027 - val_acc: 0.8050\n",
      "Epoch 17/40\n",
      "60000/60000 [==============================] - 11s 190us/sample - loss: 0.1031 - acc: 0.8067 - val_loss: 0.1018 - val_acc: 0.8052\n",
      "Epoch 18/40\n",
      "60000/60000 [==============================] - 11s 187us/sample - loss: 0.1024 - acc: 0.8067 - val_loss: 0.1008 - val_acc: 0.8052\n",
      "Epoch 19/40\n",
      "60000/60000 [==============================] - 11s 178us/sample - loss: 0.1015 - acc: 0.8068 - val_loss: 0.1002 - val_acc: 0.8052\n",
      "Epoch 20/40\n",
      "60000/60000 [==============================] - 13s 211us/sample - loss: 0.1006 - acc: 0.8069 - val_loss: 0.0994 - val_acc: 0.8055\n",
      "Epoch 21/40\n",
      "60000/60000 [==============================] - 12s 194us/sample - loss: 0.0996 - acc: 0.8070 - val_loss: 0.0980 - val_acc: 0.8056\n",
      "Epoch 22/40\n",
      "60000/60000 [==============================] - 11s 180us/sample - loss: 0.0987 - acc: 0.8071 - val_loss: 0.0972 - val_acc: 0.8058\n",
      "Epoch 23/40\n",
      "60000/60000 [==============================] - 11s 177us/sample - loss: 0.0979 - acc: 0.8072 - val_loss: 0.0969 - val_acc: 0.8055\n",
      "Epoch 24/40\n",
      "60000/60000 [==============================] - 11s 184us/sample - loss: 0.0972 - acc: 0.8072 - val_loss: 0.0960 - val_acc: 0.8057\n",
      "Epoch 25/40\n",
      "60000/60000 [==============================] - 12s 198us/sample - loss: 0.0966 - acc: 0.8073 - val_loss: 0.0956 - val_acc: 0.8059\n",
      "Epoch 26/40\n",
      "60000/60000 [==============================] - 13s 211us/sample - loss: 0.0961 - acc: 0.8073 - val_loss: 0.0950 - val_acc: 0.8059\n",
      "Epoch 27/40\n",
      "60000/60000 [==============================] - 11s 181us/sample - loss: 0.0955 - acc: 0.8074 - val_loss: 0.0947 - val_acc: 0.8058\n",
      "Epoch 28/40\n",
      "60000/60000 [==============================] - 12s 195us/sample - loss: 0.0950 - acc: 0.8074 - val_loss: 0.0942 - val_acc: 0.8060\n",
      "Epoch 29/40\n",
      "60000/60000 [==============================] - 11s 187us/sample - loss: 0.0945 - acc: 0.8075 - val_loss: 0.0935 - val_acc: 0.8060\n",
      "Epoch 30/40\n",
      "60000/60000 [==============================] - 12s 206us/sample - loss: 0.0940 - acc: 0.8075 - val_loss: 0.0931 - val_acc: 0.8060\n",
      "Epoch 31/40\n",
      "60000/60000 [==============================] - 13s 209us/sample - loss: 0.0936 - acc: 0.8075 - val_loss: 0.0928 - val_acc: 0.8061\n",
      "Epoch 32/40\n",
      "60000/60000 [==============================] - 10s 160us/sample - loss: 0.0932 - acc: 0.8076 - val_loss: 0.0925 - val_acc: 0.8061\n",
      "Epoch 33/40\n",
      "60000/60000 [==============================] - 10s 166us/sample - loss: 0.0928 - acc: 0.8076 - val_loss: 0.0921 - val_acc: 0.8060\n",
      "Epoch 34/40\n",
      "60000/60000 [==============================] - 8s 139us/sample - loss: 0.0925 - acc: 0.8076 - val_loss: 0.0917 - val_acc: 0.8061\n",
      "Epoch 35/40\n",
      "60000/60000 [==============================] - 10s 174us/sample - loss: 0.0921 - acc: 0.8076 - val_loss: 0.0914 - val_acc: 0.8061\n",
      "Epoch 36/40\n",
      "60000/60000 [==============================] - 10s 169us/sample - loss: 0.0918 - acc: 0.8077 - val_loss: 0.0913 - val_acc: 0.8059\n",
      "Epoch 37/40\n",
      "60000/60000 [==============================] - 12s 194us/sample - loss: 0.0915 - acc: 0.8077 - val_loss: 0.0910 - val_acc: 0.8062\n",
      "Epoch 38/40\n",
      "60000/60000 [==============================] - 9s 149us/sample - loss: 0.0912 - acc: 0.8077 - val_loss: 0.0903 - val_acc: 0.8063\n",
      "Epoch 39/40\n",
      "60000/60000 [==============================] - 8s 138us/sample - loss: 0.0908 - acc: 0.8077 - val_loss: 0.0900 - val_acc: 0.8062\n",
      "Epoch 40/40\n",
      "60000/60000 [==============================] - 8s 133us/sample - loss: 0.0906 - acc: 0.8078 - val_loss: 0.0899 - val_acc: 0.8062\n"
     ]
    }
   ],
   "source": [
    "history = model.fit(x=x_train, y=x_train, \n",
    "          batch_size=128, epochs=40, \n",
    "          verbose=1,\n",
    "         validation_data=(x_test, x_test))"
   ]
  },
  {
   "cell_type": "code",
   "execution_count": 6,
   "metadata": {},
   "outputs": [],
   "source": [
    "# Plot training & validation accuracy values\n",
    "# def plot_keras_history(h):\n",
    "#     plt.plot(h.history['acc'])\n",
    "#     plt.plot(h.history['val_acc'])\n",
    "#     plt.title('Model accuracy')\n",
    "#     plt.ylabel('Accuracy')\n",
    "#     plt.xlabel('Epoch')\n",
    "#     plt.legend(['Train', 'Test'], loc='upper left')\n",
    "#     plt.show()\n",
    "\n",
    "# plot_keras_history(history)"
   ]
  },
  {
   "cell_type": "markdown",
   "metadata": {},
   "source": [
    "### Now Let's visualize them"
   ]
  },
  {
   "cell_type": "code",
   "execution_count": 6,
   "metadata": {},
   "outputs": [],
   "source": [
    "def show_mnist(data):\n",
    "    n = len(data)\n",
    "    assert n <= 5\n",
    "    \n",
    "    fig, axs = plt.subplots(3, n, sharex=True, sharey=True, squeeze=False, figsize=(20,10))\n",
    "    \n",
    "    fig.suptitle(\"Autoencoder demo\")\n",
    "    \n",
    "    for i,img in enumerate(data):\n",
    "        # Show origial image\n",
    "        p = axs[0,i]\n",
    "        p.imshow(img.reshape((28,28)), cmap=\"gray\")\n",
    "        p.title.set_text(\"Original\")\n",
    "        \n",
    "        encoded = encoder_model.predict(img.reshape((1,28*28))) \n",
    "        # Show encoded image\n",
    "        p2 = axs[1,i]\n",
    "        p2.imshow(encoded.reshape((6,6)), cmap=\"gray\")\n",
    "        p2.title.set_text(\"Encoded\")\n",
    "        \n",
    "        decoded = decoder_model.predict(encoded) \n",
    "        # Show encoded image\n",
    "        p2 = axs[2,i]\n",
    "        p2.imshow(decoded.reshape((28,28)), cmap=\"gray\")\n",
    "        p2.title.set_text(\"Decoded\")\n",
    "        "
   ]
  },
  {
   "cell_type": "code",
   "execution_count": 7,
   "metadata": {},
   "outputs": [
    {
     "data": {
      "image/png": "[encoded data removed]",
      "text/plain": [
       "<Figure size 1440x720 with 15 Axes>"
      ]
     },
     "metadata": {
      "needs_background": "light"
     },
     "output_type": "display_data"
    }
   ],
   "source": [
    "indices = np.random.choice(np.arange(len(x_test)), 5)\n",
    "show_mnist(x_test[indices])"
   ]
  },
  {
   "cell_type": "code",
   "execution_count": 8,
   "metadata": {},
   "outputs": [
    {
     "name": "stdout",
     "output_type": "stream",
     "text": [
      "(1, 36)\n",
      "[[0.31622195 0.6942592  0.70373744 0.40206656 0.4637347  0.62620723]\n",
      " [0.1921328  0.33362642 0.31054547 0.83801657 0.21223009 0.61602825]\n",
      " [0.47047085 0.8067406  0.3552696  0.85232687 0.79260874 0.2930956 ]\n",
      " [0.6195492  0.54639226 0.37220052 0.8265557  0.49656844 0.43954986]\n",
      " [0.5214163  0.5634805  0.4956226  0.5188852  0.28292817 0.33229125]\n",
      " [0.24894539 0.20504981 0.36102998 0.5286946  0.41876492 0.2766394 ]]\n",
      "[[0.24099352 0.04054169 0.22603808 0.03018796 0.06309749 0.00775098]\n",
      " [0.16933206 0.2018035  0.08619492 0.13080173 0.24546947 0.19486275]\n",
      " [0.19204794 0.17814484 0.0163663  0.08389777 0.14072276 0.13195984]\n",
      " [0.18268508 0.05422934 0.05577822 0.16813667 0.00659224 0.12594192]\n",
      " [0.14108768 0.1521673  0.11702833 0.20111446 0.20959107 0.1577073 ]\n",
      " [0.05607984 0.03659192 0.06484379 0.2306794  0.05322417 0.24973786]]\n"
     ]
    },
    {
     "data": {
      "text/plain": [
       "<matplotlib.image.AxesImage at 0x22965fd4710>"
      ]
     },
     "execution_count": 8,
     "metadata": {},
     "output_type": "execute_result"
    },
    {
     "data": {
      "image/png": "[encoded data removed]",
      "text/plain": [
       "<Figure size 720x360 with 2 Axes>"
      ]
     },
     "metadata": {
      "needs_background": "light"
     },
     "output_type": "display_data"
    }
   ],
   "source": [
    "n = 50\n",
    "orginal_img = x_test[n]\n",
    "encoded = encoder_model.predict(orginal_img.reshape((1,28*28)))\n",
    "print(encoded.shape)\n",
    "print(encoded.reshape((6,6)))\n",
    "random_data = np.random.random(size=(1,36)) / 4\n",
    "print(random_data.reshape((6,6)))\n",
    "decoded = decoder_model.predict(encoded+random_data)\n",
    "\n",
    "fig, axes = plt.subplots(1, 2, sharex=True, sharey=True, squeeze=False, figsize=(10,5))\n",
    "axes[0,0].imshow(orginal_img.reshape((28,28)), cmap=\"gray\")\n",
    "axes[0,1].imshow(decoded.reshape((28,28)), cmap=\"gray\")"
   ]
  },
  {
   "cell_type": "code",
   "execution_count": 9,
   "metadata": {},
   "outputs": [
    {
     "data": {
      "text/plain": [
       "<matplotlib.image.AxesImage at 0x22966054470>"
      ]
     },
     "execution_count": 9,
     "metadata": {},
     "output_type": "execute_result"
    },
    {
     "data": {
      "image/png": "[encoded data removed]",
      "text/plain": [
       "<Figure size 432x288 with 1 Axes>"
      ]
     },
     "metadata": {
      "needs_background": "light"
     },
     "output_type": "display_data"
    }
   ],
   "source": [
    "random_data = np.random.random(size=(1,36))\n",
    "decoded = decoder_model.predict(random_data)\n",
    "plt.imshow(decoded.reshape((28,28)), cmap=\"gray\")"
   ]
  },
  {
   "cell_type": "markdown",
   "metadata": {},
   "source": [
    "#### Lets save the models"
   ]
  },
  {
   "cell_type": "code",
   "execution_count": 10,
   "metadata": {},
   "outputs": [],
   "source": [
    "model.save(\"./model_store/model_1/auto-encoder-model.h5\")\n",
    "encoder_model.save(\"./model_store/model_1/encoder-model.h5\")\n",
    "encoder_model.save_weights(\"./model_store/model_1/encoder-model-weights.h5\")\n",
    "decoder_model.save(\"./model_store/model_1/decoder-model.h5\")\n",
    "decoder_model.save_weights(\"./model_store/model_1/decoder-model-weights.h5\")"
   ]
  },
  {
   "cell_type": "code",
   "execution_count": null,
   "metadata": {},
   "outputs": [],
   "source": []
  }
 ],
 "metadata": {
  "kernelspec": {
   "display_name": "Python 3",
   "language": "python",
   "name": "python3"
  },
  "language_info": {
   "codemirror_mode": {
    "name": "ipython",
    "version": 3
   },
   "file_extension": ".py",
   "mimetype": "text/x-python",
   "name": "python",
   "nbconvert_exporter": "python",
   "pygments_lexer": "ipython3",
   "version": "3.7.3"
  }
 },
 "nbformat": 4,
 "nbformat_minor": 2
}
